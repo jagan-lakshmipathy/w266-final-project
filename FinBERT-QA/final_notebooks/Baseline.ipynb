{
  "nbformat": 4,
  "nbformat_minor": 0,
  "metadata": {
    "colab": {
      "name": "Baseline.ipynb",
      "provenance": [],
      "collapsed_sections": []
    },
    "kernelspec": {
      "name": "python3",
      "display_name": "Python 3"
    },
    "language_info": {
      "name": "python"
    }
  },
  "cells": [
    {
      "cell_type": "code",
      "execution_count": null,
      "metadata": {
        "colab": {
          "base_uri": "https://localhost:8080/"
        },
        "id": "aTwKKE3Jqsn1",
        "outputId": "c5472a2f-bd96-45a5-c9fa-0d6de67a2799"
      },
      "outputs": [
        {
          "output_type": "stream",
          "name": "stdout",
          "text": [
            "Mounted at /gdrive\n",
            "/gdrive\n"
          ]
        }
      ],
      "source": [
        "from google.colab import drive\n",
        "drive.mount('/gdrive')\n",
        "%cd /gdrive"
      ]
    },
    {
      "cell_type": "code",
      "source": [
        "%cd /gdrive/MyDrive/nlp-yuan_code/FinBERT-QA\n",
        "from src.process_data import *"
      ],
      "metadata": {
        "colab": {
          "base_uri": "https://localhost:8080/"
        },
        "id": "MFFaTTVerS_Q",
        "outputId": "2e760164-cfeb-4d7c-bcfd-a5722df955df"
      },
      "execution_count": null,
      "outputs": [
        {
          "output_type": "stream",
          "name": "stdout",
          "text": [
            "/gdrive/MyDrive/nlp-yuan_code/FinBERT-QA\n"
          ]
        },
        {
          "output_type": "stream",
          "name": "stderr",
          "text": [
            "[nltk_data] Downloading package punkt to /root/nltk_data...\n",
            "[nltk_data]   Unzipping tokenizers/punkt.zip.\n"
          ]
        }
      ]
    },
    {
      "cell_type": "markdown",
      "source": [
        "Importing packages"
      ],
      "metadata": {
        "id": "uKaZu5rSFW-b"
      }
    },
    {
      "cell_type": "code",
      "source": [
        "import numpy as np\n",
        "from sklearn.metrics import ndcg_score\n",
        "from sklearn.metrics import average_precision_score"
      ],
      "metadata": {
        "id": "LqLmGE6or12h"
      },
      "execution_count": null,
      "outputs": []
    },
    {
      "cell_type": "markdown",
      "source": [
        "Set up the PATH in Google Drive"
      ],
      "metadata": {
        "id": "zoWKLpSQFffb"
      }
    },
    {
      "cell_type": "code",
      "source": [
        "RO_FiQA_DATA_PATH = '/gdrive/MyDrive/nlp-data/nlp-qa-datasets/FiQA/FiQA_train_task2/'\n",
        "RO_FIQA_INDEX = \"/gdrive/MyDrive/nlp-yuan_code/FinBERT-QA/retriever/lucene-index-fiqa/\"\n",
        "WR_PICKLE_DATA = '/gdrive/MyDrive/nlp-yuan_code/FinBERT-QA/data/data_pickle/'\n",
        "WR_PICKLE_TRANSIENT_DATA = '/gdrive/MyDrive/nlp-yuan_code/FinBERT-QA/data/data_pickle/transient/'\n",
        "WR_INTERIM_DATA = '/gdrive/MyDrive/nlp-yuan_code/FinBERT-QA/data/interim/'"
      ],
      "metadata": {
        "id": "rTe7wlFIq8gX"
      },
      "execution_count": null,
      "outputs": []
    },
    {
      "cell_type": "markdown",
      "source": [
        "Set up the training and test data set"
      ],
      "metadata": {
        "id": "MqNHnAWeFnIe"
      }
    },
    {
      "cell_type": "code",
      "source": [
        "train_set = load_pickle(WR_INTERIM_DATA + \"train_set.pickle\")\n",
        "test_set = load_pickle(WR_INTERIM_DATA + \"test_set.pickle\")"
      ],
      "metadata": {
        "id": "67geC9p-rC5b"
      },
      "execution_count": null,
      "outputs": []
    },
    {
      "cell_type": "markdown",
      "source": [
        "Calculate the metrics for baseline"
      ],
      "metadata": {
        "id": "6OFrtyiyFudR"
      }
    },
    {
      "cell_type": "code",
      "source": [
        "def run_baseline(data):\n",
        "  ap = [] \n",
        "  rr = []\n",
        "  cg = []\n",
        "\n",
        "# Data consists of quiestion id, answer labels (in 0 or 1), candidate documents (paraghraphs), and candidate score for ranking answers (from model output)\n",
        "  for j, seq in enumerate(data):\n",
        "    qid, ans_labels, cands, cands_score = seq[0], seq[1], seq[2], seq[3]\n",
        "\n",
        "    rr_ = 0\n",
        "    ap_ = 0.0\n",
        "    top_k = 10\n",
        "\n",
        "    for i in range(len(cands)):\n",
        "      docid = cands[i]\n",
        "      if docid in ans_labels and rr_ == 0:\n",
        "        rr_ = 1/(i+1)\n",
        "        break\n",
        "    \n",
        "    relscores = [1 if docid in ans_labels else 0 for docid in cands]\n",
        "    pos = [1.0/(i+1) for i in range(len(cands))]\n",
        "    ap_ = average_precision_score(relscores,pos) if sum(relscores) != 0 else 0 \n",
        "\n",
        "    mcnt = max(len(cands), len(ans_labels))\n",
        "    m = dict([(ai, 1/(i+1)) for i, ai in enumerate(ans_labels)])\n",
        "\n",
        "    if len(ans_labels)==0 or len(cands)==0:\n",
        "      cg_ = 0.0\n",
        "    elif len(ans_labels)==1:\n",
        "      cg_ = 1.0 if len(cands)>0 and cands[0] in ans_labels else 0\n",
        "    elif len(cands) == 1:\n",
        "      cg_ = 1.0 if len(ans_labels) and cands[0] in ans_labels else 0\n",
        "    else:\n",
        "      relscores = np.asarray([[ m[cands[i]] if i<len(cands) and m.get(cands[i]) else 0 for i in range(mcnt)]])\n",
        "      pos = np.asarray([[1/(i+1) for i in range(mcnt)]])\n",
        "      cg_ = ndcg_score(relscores, pos)  \n",
        "\n",
        "    ap.append(ap_)\n",
        "    rr.append(rr_)\n",
        "    cg.append(cg_)\n",
        "  return rr, ap, cg # returning the metrics MRR, MAP and NDCG"
      ],
      "metadata": {
        "id": "CcoR9Pw6mw3m"
      },
      "execution_count": null,
      "outputs": []
    },
    {
      "cell_type": "code",
      "source": [
        "rr, ap, cg = run_baseline(test_set)\n",
        "\n",
        "print('Mean Reciprocal Rank (MRR):', np.mean(rr))\n",
        "print('Mean average Precision (MAP)', np.mean(ap))\n",
        "print('Normalized Discounted Cumulative Gain (NDCG)', np.mean(cg))"
      ],
      "metadata": {
        "colab": {
          "base_uri": "https://localhost:8080/"
        },
        "id": "iA4eNGNLrxg8",
        "outputId": "579379eb-2faf-4903-8eb6-27f05b6402fc"
      },
      "execution_count": null,
      "outputs": [
        {
          "output_type": "stream",
          "name": "stdout",
          "text": [
            "Mean Reciprocal Rank (MRR): 0.30120904839548096\n",
            "Mean average Precision (MAP) 0.2578318534207535\n",
            "Normalized Discounted Cumulative Gain (NDCG) 0.2954886911245034\n"
          ]
        }
      ]
    }
  ]
}